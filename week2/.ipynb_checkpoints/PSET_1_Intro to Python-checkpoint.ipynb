{
 "cells": [
  {
   "cell_type": "markdown",
   "metadata": {},
   "source": [
    "# Problem Set 1: Intro to Python\n",
    "TODO"
   ]
  },
  {
   "cell_type": "markdown",
   "metadata": {},
   "source": [
    "## 1.Exponentiation Function\n",
    "Create a program called **exp** that asks for two digits and then prints an exponentiation, without using the exponentiation operator (`**`). You may assume these are positive integers. Use at least one custom-defined function.\n",
    "\n",
    "For example, some outputs of this function could be:\n",
    "* 2 , 3 => 8\n",
    "* 5 , 4 => 625\n"
   ]
  },
  {
   "cell_type": "code",
   "execution_count": null,
   "metadata": {
    "collapsed": true
   },
   "outputs": [],
   "source": []
  },
  {
   "cell_type": "markdown",
   "metadata": {},
   "source": [
    "## 2. Password Validation Function \n",
    "Write a password validation program. Ask the user to input a password that meets the criteria listed below. Validate that the user’s password matches this criteria. After 3 bad tries, quit with an error message. If password is valid, print a helpful success message.\n",
    "\n",
    "* password length must be 8-14 characters\n",
    "* password must contain at least 2 digits\n",
    "* password must contain at least 1 uppercase letter\n",
    "* password must contain at least 1 special character from this set !@#$%^&*()-_+=\n"
   ]
  },
  {
   "cell_type": "code",
   "execution_count": null,
   "metadata": {
    "collapsed": true
   },
   "outputs": [],
   "source": []
  },
  {
   "cell_type": "markdown",
   "metadata": {},
   "source": [
    "## 3. Hangman Game\n",
    "Implement a basic hangman game.\n",
    "* Show a user the word or phrase (5-15 letters) that they have to guess with dashes as placeholders for unsolved letters. You can hardcode this word into your source.\n",
    "* Prompt the user to guess a letter or solve the puzzle. They get up to 8 guesses. After each guess, show the word with any instances of correctly guessed letters filled in. Show the number of tries left. Handle possible issues with user input in a consistent way.\n",
    "* Continue to prompt the user until either they’ve used up their 8 guesses or solved.\n",
    "* If they solve the puzzle in time, show the completed word and a congratulatory message.\n",
    "* If they fail to solve the puzzle, show the completed word and a Game Over message.\n",
    "\n",
    "\n",
    "Here’s a sample transcript.\n",
    "> You have 8 guesses to solve this word. \n",
    "\n",
    ">------------------------------------------   \n",
    "\n",
    ">guess a letter or solve: b \n",
    "\n",
    ">b--b--b--  (7 tries left) \n",
    "\n",
    ">guess a letter or solve: x \n",
    "\n",
    ">b--b--b--  (6 tries left) \n",
    "\n",
    ">guess a letter or solve: e \n",
    "\n",
    ">b--b-ebee  (5 tries left) \n",
    "\n",
    ">guess a letter or solve: bumblebee \n",
    "\n",
    ">bumblebee  (4 tries left) \n",
    "\n",
    ">Congratulations, you won!\n",
    "\n"
   ]
  },
  {
   "cell_type": "code",
   "execution_count": null,
   "metadata": {
    "collapsed": true
   },
   "outputs": [],
   "source": []
  },
  {
   "cell_type": "markdown",
   "metadata": {},
   "source": [
    "##4. Random Function\n",
    "Here is a python snippet for generating a random integer:\n",
    "\n",
    "```Python\n",
    "import random\n",
    "# this returns random integer: 100 <= number <= 1000 \n",
    "num = random.randint(100, 1000)\n",
    "```\n",
    "\n",
    "1. Implement your own random function that builds on this python function, returning an integer between a low and a high number supplied by the user, but that can be called with the low number optional (default to 0). \n",
    "\n",
    "2. Test your function by adding the following 2 assert statements to your file (replace myrandom and low with the names you used)\n",
    "\n",
    "```Python\n",
    "assert(0 <= myrandom(100) <= 100)\n",
    "assert(50 <= myrandom(100,low=50) <= 100)\n",
    "```\n"
   ]
  },
  {
   "cell_type": "code",
   "execution_count": null,
   "metadata": {
    "collapsed": true
   },
   "outputs": [],
   "source": []
  },
  {
   "cell_type": "markdown",
   "metadata": {},
   "source": [
    "## 5. Lists\n",
    "Do the following:\n",
    "1. Create a list containing any 4 strings.\n",
    "2. Print the 3rd item in the list\n",
    "3. Print the 1st and 2nd item in the list using [:] index slicing.\n",
    "4. Add a new string with text “last” to the end of the list and print the list.\n",
    "5. Get the list length and print it.\n",
    "6. Replace the last item in the list with the string “new” and print\n"
   ]
  },
  {
   "cell_type": "code",
   "execution_count": null,
   "metadata": {
    "collapsed": true
   },
   "outputs": [],
   "source": []
  },
  {
   "cell_type": "markdown",
   "metadata": {},
   "source": [
    "## 6. Strings \n",
    "Given the following list of words:\n",
    "```Python\n",
    "list1=['My', 'father', 'gave','me','a','Toyota','Avalon','for','my','eighteenth','birthday']\n",
    "```\n",
    "1. Convert the list into a normal sentence with join(), then print.\n",
    "2. Reverse the order of this list [“birthday”,”eighteenth”,…]\n",
    "3. Now sort the list using the default sort order in python\n",
    "4. Modify the sort to do a case insensitive alphabetic sort\n",
    "5. Now print the list in reverse alphabetic sort order\n"
   ]
  },
  {
   "cell_type": "code",
   "execution_count": null,
   "metadata": {
    "collapsed": true
   },
   "outputs": [],
   "source": []
  },
  {
   "cell_type": "markdown",
   "metadata": {},
   "source": [
    "## 7. String Formatting Function \n",
    "Write a program that expects 2 inputs from the command line. The first is a title that may be multiple words, the second is a number. Given these inputs print the following string (replacing N and Title with the dynamic values passed in to the script each time it runs).\n",
    "\n",
    "`The number N bestseller today is: Title` \n",
    "\n",
    "* Make sure you titlecase the title text.\n",
    "* Can you make the first input optional (keeping the 2nd required)?\n",
    "* Can you make the second input optional (keeping the 1st required)?\n",
    "* Can you make both inputs optional?\n"
   ]
  },
  {
   "cell_type": "code",
   "execution_count": null,
   "metadata": {
    "collapsed": true
   },
   "outputs": [],
   "source": []
  },
  {
   "cell_type": "markdown",
   "metadata": {},
   "source": [
    "## 8. Min and Max Functions\n",
    "Write your own versions of the Python built-in functions **min** and **max**. They should take a list as an argument and return the minimum or maximum element. Assume lists contain numeric items only. \n",
    "\n",
    "`Hint: Pick the first element as the minimum(maximum) and then loop through the elements to find a smaller(larger) element. Each time you find a smaller (larger) element, update your minimum (maximum).`"
   ]
  },
  {
   "cell_type": "code",
   "execution_count": null,
   "metadata": {
    "collapsed": true
   },
   "outputs": [],
   "source": []
  }
 ],
 "metadata": {
  "kernelspec": {
   "display_name": "Python 2",
   "language": "python",
   "name": "python2"
  },
  "language_info": {
   "codemirror_mode": {
    "name": "ipython",
    "version": 2
   },
   "file_extension": ".py",
   "mimetype": "text/x-python",
   "name": "python",
   "nbconvert_exporter": "python",
   "pygments_lexer": "ipython2",
   "version": "2.7.11"
  }
 },
 "nbformat": 4,
 "nbformat_minor": 0
}
